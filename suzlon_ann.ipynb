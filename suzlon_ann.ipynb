{
  "nbformat": 4,
  "nbformat_minor": 0,
  "metadata": {
    "colab": {
      "provenance": [],
      "authorship_tag": "ABX9TyPiaenW/tXl1FYs/99uMGBj",
      "include_colab_link": true
    },
    "kernelspec": {
      "name": "python3",
      "display_name": "Python 3"
    },
    "language_info": {
      "name": "python"
    }
  },
  "cells": [
    {
      "cell_type": "markdown",
      "metadata": {
        "id": "view-in-github",
        "colab_type": "text"
      },
      "source": [
        "<a href=\"https://colab.research.google.com/github/Ashishmehta786/ML/blob/main/suzlon_ann.ipynb\" target=\"_parent\"><img src=\"https://colab.research.google.com/assets/colab-badge.svg\" alt=\"Open In Colab\"/></a>"
      ]
    },
    {
      "cell_type": "markdown",
      "source": [
        "##Note we aren't sebi Registered organisation here what ever we are doing is just for learning purpose of machine learning"
      ],
      "metadata": {
        "id": "akraztTObOOT"
      }
    },
    {
      "cell_type": "code",
      "execution_count": null,
      "metadata": {
        "id": "vFdJqlFzGoya"
      },
      "outputs": [],
      "source": [
        "import tensorflow\n",
        "from tensorflow import keras\n",
        "from keras.losses import Huber\n",
        "from keras.layers import LeakyReLU,Dense,Flatten\n",
        "from keras import Sequential, Model\n",
        "from sklearn.metrics import mean_absolute_error"
      ]
    },
    {
      "cell_type": "code",
      "source": [
        "import pandas as pd\n",
        "df=pd.read_csv(\"suzlon.csv\")"
      ],
      "metadata": {
        "id": "uqYUDJQeIvGl"
      },
      "execution_count": null,
      "outputs": []
    },
    {
      "cell_type": "code",
      "source": [
        "#df.drop(columns=df.columns[5],axis=1,inplace=True)\n",
        "df.head(1)\n",
        "df.iloc[:,0]= pd.to_datetime(df.iloc[:,0])\n",
        "df['Year'] = df.iloc[:,0].dt.year\n",
        "df['Month'] = df.iloc[:,0].dt.month\n",
        "df['Day'] = df.iloc[:,0].dt.day"
      ],
      "metadata": {
        "colab": {
          "base_uri": "https://localhost:8080/"
        },
        "id": "B8hfQ6tLCtG1",
        "outputId": "ed77a347-6a96-4c15-bac8-791238b11d75"
      },
      "execution_count": null,
      "outputs": [
        {
          "output_type": "stream",
          "name": "stderr",
          "text": [
            "<ipython-input-48-d71aedb7f710>:3: DeprecationWarning: In a future version, `df.iloc[:, i] = newvals` will attempt to set the values inplace instead of always setting a new array. To retain the old behavior, use either `df[df.columns[i]] = newvals` or, if columns are non-unique, `df.isetitem(i, newvals)`\n",
            "  df.iloc[:,0]= pd.to_datetime(df.iloc[:,0])\n"
          ]
        }
      ]
    },
    {
      "cell_type": "code",
      "source": [
        "\n",
        "c=[0,1,6,8,9,10,11,12,13]\n",
        "\n",
        "df.drop(df.columns[c],axis=1,inplace=True)"
      ],
      "metadata": {
        "id": "YSBcOW7zFdrm"
      },
      "execution_count": null,
      "outputs": []
    },
    {
      "cell_type": "code",
      "source": [
        "df.head(1)"
      ],
      "metadata": {
        "colab": {
          "base_uri": "https://localhost:8080/",
          "height": 118
        },
        "id": "uvc5G6ZcGoEB",
        "outputId": "89ffef2c-771e-4085-ad45-f2001160b3df"
      },
      "execution_count": null,
      "outputs": [
        {
          "output_type": "execute_result",
          "data": {
            "text/plain": [
              "   OPEN   HIGH   LOW   PREV. CLOSE   close   Year  Month  Day\n",
              "0   24.6   24.9  23.5          24.1    23.6  2023      9    5"
            ],
            "text/html": [
              "\n",
              "  <div id=\"df-48bbdb14-af2f-4a58-8af2-7aa6c2e24c39\" class=\"colab-df-container\">\n",
              "    <div>\n",
              "<style scoped>\n",
              "    .dataframe tbody tr th:only-of-type {\n",
              "        vertical-align: middle;\n",
              "    }\n",
              "\n",
              "    .dataframe tbody tr th {\n",
              "        vertical-align: top;\n",
              "    }\n",
              "\n",
              "    .dataframe thead th {\n",
              "        text-align: right;\n",
              "    }\n",
              "</style>\n",
              "<table border=\"1\" class=\"dataframe\">\n",
              "  <thead>\n",
              "    <tr style=\"text-align: right;\">\n",
              "      <th></th>\n",
              "      <th>OPEN</th>\n",
              "      <th>HIGH</th>\n",
              "      <th>LOW</th>\n",
              "      <th>PREV. CLOSE</th>\n",
              "      <th>close</th>\n",
              "      <th>Year</th>\n",
              "      <th>Month</th>\n",
              "      <th>Day</th>\n",
              "    </tr>\n",
              "  </thead>\n",
              "  <tbody>\n",
              "    <tr>\n",
              "      <th>0</th>\n",
              "      <td>24.6</td>\n",
              "      <td>24.9</td>\n",
              "      <td>23.5</td>\n",
              "      <td>24.1</td>\n",
              "      <td>23.6</td>\n",
              "      <td>2023</td>\n",
              "      <td>9</td>\n",
              "      <td>5</td>\n",
              "    </tr>\n",
              "  </tbody>\n",
              "</table>\n",
              "</div>\n",
              "    <div class=\"colab-df-buttons\">\n",
              "\n",
              "  <div class=\"colab-df-container\">\n",
              "    <button class=\"colab-df-convert\" onclick=\"convertToInteractive('df-48bbdb14-af2f-4a58-8af2-7aa6c2e24c39')\"\n",
              "            title=\"Convert this dataframe to an interactive table.\"\n",
              "            style=\"display:none;\">\n",
              "\n",
              "  <svg xmlns=\"http://www.w3.org/2000/svg\" height=\"24px\" viewBox=\"0 -960 960 960\">\n",
              "    <path d=\"M120-120v-720h720v720H120Zm60-500h600v-160H180v160Zm220 220h160v-160H400v160Zm0 220h160v-160H400v160ZM180-400h160v-160H180v160Zm440 0h160v-160H620v160ZM180-180h160v-160H180v160Zm440 0h160v-160H620v160Z\"/>\n",
              "  </svg>\n",
              "    </button>\n",
              "\n",
              "  <style>\n",
              "    .colab-df-container {\n",
              "      display:flex;\n",
              "      gap: 12px;\n",
              "    }\n",
              "\n",
              "    .colab-df-convert {\n",
              "      background-color: #E8F0FE;\n",
              "      border: none;\n",
              "      border-radius: 50%;\n",
              "      cursor: pointer;\n",
              "      display: none;\n",
              "      fill: #1967D2;\n",
              "      height: 32px;\n",
              "      padding: 0 0 0 0;\n",
              "      width: 32px;\n",
              "    }\n",
              "\n",
              "    .colab-df-convert:hover {\n",
              "      background-color: #E2EBFA;\n",
              "      box-shadow: 0px 1px 2px rgba(60, 64, 67, 0.3), 0px 1px 3px 1px rgba(60, 64, 67, 0.15);\n",
              "      fill: #174EA6;\n",
              "    }\n",
              "\n",
              "    .colab-df-buttons div {\n",
              "      margin-bottom: 4px;\n",
              "    }\n",
              "\n",
              "    [theme=dark] .colab-df-convert {\n",
              "      background-color: #3B4455;\n",
              "      fill: #D2E3FC;\n",
              "    }\n",
              "\n",
              "    [theme=dark] .colab-df-convert:hover {\n",
              "      background-color: #434B5C;\n",
              "      box-shadow: 0px 1px 3px 1px rgba(0, 0, 0, 0.15);\n",
              "      filter: drop-shadow(0px 1px 2px rgba(0, 0, 0, 0.3));\n",
              "      fill: #FFFFFF;\n",
              "    }\n",
              "  </style>\n",
              "\n",
              "    <script>\n",
              "      const buttonEl =\n",
              "        document.querySelector('#df-48bbdb14-af2f-4a58-8af2-7aa6c2e24c39 button.colab-df-convert');\n",
              "      buttonEl.style.display =\n",
              "        google.colab.kernel.accessAllowed ? 'block' : 'none';\n",
              "\n",
              "      async function convertToInteractive(key) {\n",
              "        const element = document.querySelector('#df-48bbdb14-af2f-4a58-8af2-7aa6c2e24c39');\n",
              "        const dataTable =\n",
              "          await google.colab.kernel.invokeFunction('convertToInteractive',\n",
              "                                                    [key], {});\n",
              "        if (!dataTable) return;\n",
              "\n",
              "        const docLinkHtml = 'Like what you see? Visit the ' +\n",
              "          '<a target=\"_blank\" href=https://colab.research.google.com/notebooks/data_table.ipynb>data table notebook</a>'\n",
              "          + ' to learn more about interactive tables.';\n",
              "        element.innerHTML = '';\n",
              "        dataTable['output_type'] = 'display_data';\n",
              "        await google.colab.output.renderOutput(dataTable, element);\n",
              "        const docLink = document.createElement('div');\n",
              "        docLink.innerHTML = docLinkHtml;\n",
              "        element.appendChild(docLink);\n",
              "      }\n",
              "    </script>\n",
              "  </div>\n",
              "\n",
              "    </div>\n",
              "  </div>\n"
            ]
          },
          "metadata": {},
          "execution_count": 54
        }
      ]
    },
    {
      "cell_type": "code",
      "source": [
        "X=df.iloc[:,1:]\n",
        "y=df.iloc[:,0]\n",
        "X.shape"
      ],
      "metadata": {
        "colab": {
          "base_uri": "https://localhost:8080/"
        },
        "id": "gDW3xNRMG_hg",
        "outputId": "172b8b44-9698-45fb-dcf5-73b003cfacff"
      },
      "execution_count": null,
      "outputs": [
        {
          "output_type": "execute_result",
          "data": {
            "text/plain": [
              "(249, 7)"
            ]
          },
          "metadata": {},
          "execution_count": 59
        }
      ]
    },
    {
      "cell_type": "code",
      "source": [
        "X=X/2023"
      ],
      "metadata": {
        "id": "6v0x9qU0Hw-5"
      },
      "execution_count": null,
      "outputs": []
    },
    {
      "cell_type": "code",
      "source": [
        "y=y/27"
      ],
      "metadata": {
        "id": "GFhZRMqoHy1B"
      },
      "execution_count": null,
      "outputs": []
    },
    {
      "cell_type": "markdown",
      "source": [
        "##Note we aren't sebi Registered organisation here what ever we are doing is just for learning purpose of machine learning"
      ],
      "metadata": {
        "id": "QUWOjyhzbTln"
      }
    },
    {
      "cell_type": "code",
      "source": [
        "from sklearn.model_selection import train_test_split\n",
        "X_train,X_test,y_train,y_test= train_test_split(X,y,test_size=0.15)"
      ],
      "metadata": {
        "id": "VDMvvEGBGsZp"
      },
      "execution_count": null,
      "outputs": []
    },
    {
      "cell_type": "code",
      "source": [
        "model=Sequential ()\n",
        "model.add(Dense(64, activation=\"LeakyReLU\",input_dim=7))\n",
        "model.add(Dense(128, activation=\"relu\"))\n",
        "model.add(Dense(256, activation=\"relu\"))\n",
        "model.add(Dense(512, activation=\"tanh\"))\n",
        "model.add(Dense(1024, activation=\"tanh\"))\n",
        "model.add(Dense(512, activation=\"LeakyReLU\"))\n",
        "model.add(Dense(256, activation=\"relu\"))\n",
        "model.add(Dense(128, activation=\"relu\"))\n",
        "model.add(Dense(64, activation=\"LeakyReLU\"))\n",
        "model.add(Dense(1, activation=\"sigmoid\"))\n",
        "model.summary()"
      ],
      "metadata": {
        "colab": {
          "base_uri": "https://localhost:8080/"
        },
        "id": "xHQbrxnJHIal",
        "outputId": "6f52409d-0f3a-46fd-e34a-53f374e6d5f0"
      },
      "execution_count": null,
      "outputs": [
        {
          "output_type": "stream",
          "name": "stdout",
          "text": [
            "Model: \"sequential_2\"\n",
            "_________________________________________________________________\n",
            " Layer (type)                Output Shape              Param #   \n",
            "=================================================================\n",
            " dense_20 (Dense)            (None, 64)                512       \n",
            "                                                                 \n",
            " dense_21 (Dense)            (None, 128)               8320      \n",
            "                                                                 \n",
            " dense_22 (Dense)            (None, 256)               33024     \n",
            "                                                                 \n",
            " dense_23 (Dense)            (None, 512)               131584    \n",
            "                                                                 \n",
            " dense_24 (Dense)            (None, 1024)              525312    \n",
            "                                                                 \n",
            " dense_25 (Dense)            (None, 512)               524800    \n",
            "                                                                 \n",
            " dense_26 (Dense)            (None, 256)               131328    \n",
            "                                                                 \n",
            " dense_27 (Dense)            (None, 128)               32896     \n",
            "                                                                 \n",
            " dense_28 (Dense)            (None, 64)                8256      \n",
            "                                                                 \n",
            " dense_29 (Dense)            (None, 1)                 65        \n",
            "                                                                 \n",
            "=================================================================\n",
            "Total params: 1,396,097\n",
            "Trainable params: 1,396,097\n",
            "Non-trainable params: 0\n",
            "_________________________________________________________________\n"
          ]
        }
      ]
    },
    {
      "cell_type": "code",
      "source": [
        "model.compile(optimizer =\"Adam\",loss=\"Huber\")\n",
        "model.fit(X_train,y_train,epochs=100, validation_data=[X_test,y_test])"
      ],
      "metadata": {
        "id": "R7tDsc63IWpl",
        "colab": {
          "base_uri": "https://localhost:8080/"
        },
        "outputId": "c91d3e1e-3e64-42fc-d6c0-681c892f6948"
      },
      "execution_count": null,
      "outputs": [
        {
          "output_type": "stream",
          "name": "stdout",
          "text": [
            "Epoch 1/100\n",
            "7/7 [==============================] - 3s 66ms/step - loss: 0.0138 - val_loss: 0.0133\n",
            "Epoch 2/100\n",
            "7/7 [==============================] - 0s 32ms/step - loss: 0.0140 - val_loss: 0.0120\n",
            "Epoch 3/100\n",
            "7/7 [==============================] - 0s 37ms/step - loss: 0.0128 - val_loss: 0.0102\n",
            "Epoch 4/100\n",
            "7/7 [==============================] - 0s 39ms/step - loss: 0.0128 - val_loss: 0.0117\n",
            "Epoch 5/100\n",
            "7/7 [==============================] - 0s 34ms/step - loss: 0.0109 - val_loss: 0.0065\n",
            "Epoch 6/100\n",
            "7/7 [==============================] - 0s 33ms/step - loss: 0.0065 - val_loss: 0.0014\n",
            "Epoch 7/100\n",
            "7/7 [==============================] - 0s 35ms/step - loss: 0.0043 - val_loss: 0.0032\n",
            "Epoch 8/100\n",
            "7/7 [==============================] - 0s 39ms/step - loss: 0.0025 - val_loss: 0.0027\n",
            "Epoch 9/100\n",
            "7/7 [==============================] - 0s 32ms/step - loss: 0.0017 - val_loss: 0.0055\n",
            "Epoch 10/100\n",
            "7/7 [==============================] - 0s 32ms/step - loss: 0.0037 - val_loss: 0.0013\n",
            "Epoch 11/100\n",
            "7/7 [==============================] - 0s 33ms/step - loss: 0.0112 - val_loss: 0.0127\n",
            "Epoch 12/100\n",
            "7/7 [==============================] - 0s 34ms/step - loss: 0.0134 - val_loss: 0.0120\n",
            "Epoch 13/100\n",
            "7/7 [==============================] - 0s 34ms/step - loss: 0.0131 - val_loss: 0.0113\n",
            "Epoch 14/100\n",
            "7/7 [==============================] - 0s 34ms/step - loss: 0.0125 - val_loss: 0.0103\n",
            "Epoch 15/100\n",
            "7/7 [==============================] - 0s 34ms/step - loss: 0.0099 - val_loss: 0.0062\n",
            "Epoch 16/100\n",
            "7/7 [==============================] - 0s 34ms/step - loss: 0.0058 - val_loss: 6.4998e-04\n",
            "Epoch 17/100\n",
            "7/7 [==============================] - 0s 32ms/step - loss: 0.0083 - val_loss: 0.0024\n",
            "Epoch 18/100\n",
            "7/7 [==============================] - 0s 34ms/step - loss: 0.0044 - val_loss: 0.0041\n",
            "Epoch 19/100\n",
            "7/7 [==============================] - 0s 34ms/step - loss: 0.0030 - val_loss: 5.4530e-04\n",
            "Epoch 20/100\n",
            "7/7 [==============================] - 0s 35ms/step - loss: 0.0010 - val_loss: 0.0022\n",
            "Epoch 21/100\n",
            "7/7 [==============================] - 0s 38ms/step - loss: 0.0011 - val_loss: 3.6015e-04\n",
            "Epoch 22/100\n",
            "7/7 [==============================] - 0s 59ms/step - loss: 5.1212e-04 - val_loss: 9.9271e-04\n",
            "Epoch 23/100\n",
            "7/7 [==============================] - 0s 53ms/step - loss: 5.3962e-04 - val_loss: 1.5644e-04\n",
            "Epoch 24/100\n",
            "7/7 [==============================] - 0s 47ms/step - loss: 4.0801e-04 - val_loss: 9.6974e-04\n",
            "Epoch 25/100\n",
            "7/7 [==============================] - 0s 49ms/step - loss: 4.0958e-04 - val_loss: 1.0455e-04\n",
            "Epoch 26/100\n",
            "7/7 [==============================] - 0s 48ms/step - loss: 2.2625e-04 - val_loss: 1.5896e-04\n",
            "Epoch 27/100\n",
            "7/7 [==============================] - 0s 47ms/step - loss: 2.0174e-04 - val_loss: 2.7494e-04\n",
            "Epoch 28/100\n",
            "7/7 [==============================] - 0s 51ms/step - loss: 2.1279e-04 - val_loss: 1.2274e-04\n",
            "Epoch 29/100\n",
            "7/7 [==============================] - 0s 43ms/step - loss: 2.0239e-04 - val_loss: 1.6801e-04\n",
            "Epoch 30/100\n",
            "7/7 [==============================] - 0s 33ms/step - loss: 2.5185e-04 - val_loss: 8.1210e-05\n",
            "Epoch 31/100\n",
            "7/7 [==============================] - 0s 31ms/step - loss: 1.3195e-04 - val_loss: 5.9466e-05\n",
            "Epoch 32/100\n",
            "7/7 [==============================] - 0s 31ms/step - loss: 1.1689e-04 - val_loss: 7.3378e-05\n",
            "Epoch 33/100\n",
            "7/7 [==============================] - 0s 35ms/step - loss: 1.1645e-04 - val_loss: 5.1477e-05\n",
            "Epoch 34/100\n",
            "7/7 [==============================] - 0s 35ms/step - loss: 9.5504e-05 - val_loss: 4.8419e-05\n",
            "Epoch 35/100\n",
            "7/7 [==============================] - 0s 31ms/step - loss: 8.9816e-05 - val_loss: 5.6149e-05\n",
            "Epoch 36/100\n",
            "7/7 [==============================] - 0s 35ms/step - loss: 1.1111e-04 - val_loss: 4.1855e-05\n",
            "Epoch 37/100\n",
            "7/7 [==============================] - 0s 34ms/step - loss: 8.9221e-05 - val_loss: 4.1540e-05\n",
            "Epoch 38/100\n",
            "7/7 [==============================] - 0s 35ms/step - loss: 1.0254e-04 - val_loss: 4.3659e-05\n",
            "Epoch 39/100\n",
            "7/7 [==============================] - 0s 35ms/step - loss: 9.6955e-05 - val_loss: 7.6328e-05\n",
            "Epoch 40/100\n",
            "7/7 [==============================] - 0s 35ms/step - loss: 8.6993e-05 - val_loss: 4.5044e-05\n",
            "Epoch 41/100\n",
            "7/7 [==============================] - 0s 38ms/step - loss: 1.1671e-04 - val_loss: 5.6031e-05\n",
            "Epoch 42/100\n",
            "7/7 [==============================] - 0s 36ms/step - loss: 1.1040e-04 - val_loss: 3.0826e-05\n",
            "Epoch 43/100\n",
            "7/7 [==============================] - 0s 33ms/step - loss: 9.8147e-05 - val_loss: 1.4586e-04\n",
            "Epoch 44/100\n",
            "7/7 [==============================] - 0s 32ms/step - loss: 1.4457e-04 - val_loss: 6.2463e-05\n",
            "Epoch 45/100\n",
            "7/7 [==============================] - 0s 34ms/step - loss: 1.3488e-04 - val_loss: 8.2126e-05\n",
            "Epoch 46/100\n",
            "7/7 [==============================] - 0s 34ms/step - loss: 8.8148e-05 - val_loss: 3.6256e-05\n",
            "Epoch 47/100\n",
            "7/7 [==============================] - 0s 35ms/step - loss: 7.9050e-05 - val_loss: 3.4933e-05\n",
            "Epoch 48/100\n",
            "7/7 [==============================] - 0s 35ms/step - loss: 9.1773e-05 - val_loss: 7.4039e-05\n",
            "Epoch 49/100\n",
            "7/7 [==============================] - 0s 37ms/step - loss: 1.1176e-04 - val_loss: 1.9904e-04\n",
            "Epoch 50/100\n",
            "7/7 [==============================] - 0s 33ms/step - loss: 1.6065e-04 - val_loss: 1.7477e-04\n",
            "Epoch 51/100\n",
            "7/7 [==============================] - 0s 33ms/step - loss: 1.0103e-04 - val_loss: 8.7587e-05\n",
            "Epoch 52/100\n",
            "7/7 [==============================] - 0s 35ms/step - loss: 1.0837e-04 - val_loss: 5.4252e-05\n",
            "Epoch 53/100\n",
            "7/7 [==============================] - 0s 34ms/step - loss: 1.3451e-04 - val_loss: 3.4687e-05\n",
            "Epoch 54/100\n",
            "7/7 [==============================] - 0s 36ms/step - loss: 9.8755e-05 - val_loss: 3.6301e-05\n",
            "Epoch 55/100\n",
            "7/7 [==============================] - 0s 37ms/step - loss: 1.2743e-04 - val_loss: 9.6001e-05\n",
            "Epoch 56/100\n",
            "7/7 [==============================] - 0s 36ms/step - loss: 1.5988e-04 - val_loss: 3.4914e-05\n",
            "Epoch 57/100\n",
            "7/7 [==============================] - 0s 31ms/step - loss: 9.8450e-05 - val_loss: 1.2194e-04\n",
            "Epoch 58/100\n",
            "7/7 [==============================] - 0s 35ms/step - loss: 1.0332e-04 - val_loss: 6.0452e-05\n",
            "Epoch 59/100\n",
            "7/7 [==============================] - 0s 33ms/step - loss: 6.6818e-05 - val_loss: 3.2241e-05\n",
            "Epoch 60/100\n",
            "7/7 [==============================] - 0s 34ms/step - loss: 8.1720e-05 - val_loss: 2.9110e-05\n",
            "Epoch 61/100\n",
            "7/7 [==============================] - 0s 35ms/step - loss: 6.4447e-05 - val_loss: 2.8582e-05\n",
            "Epoch 62/100\n",
            "7/7 [==============================] - 0s 35ms/step - loss: 6.9422e-05 - val_loss: 2.5496e-05\n",
            "Epoch 63/100\n",
            "7/7 [==============================] - 0s 35ms/step - loss: 8.1195e-05 - val_loss: 3.5690e-05\n",
            "Epoch 64/100\n",
            "7/7 [==============================] - 0s 36ms/step - loss: 6.4177e-05 - val_loss: 3.3728e-05\n",
            "Epoch 65/100\n",
            "7/7 [==============================] - 0s 33ms/step - loss: 1.3229e-04 - val_loss: 1.2027e-04\n",
            "Epoch 66/100\n",
            "7/7 [==============================] - 0s 31ms/step - loss: 1.1413e-04 - val_loss: 6.5320e-05\n",
            "Epoch 67/100\n",
            "7/7 [==============================] - 0s 32ms/step - loss: 1.2988e-04 - val_loss: 3.6813e-05\n",
            "Epoch 68/100\n",
            "7/7 [==============================] - 0s 35ms/step - loss: 1.1172e-04 - val_loss: 2.1181e-04\n",
            "Epoch 69/100\n",
            "7/7 [==============================] - 0s 38ms/step - loss: 1.6464e-04 - val_loss: 4.9632e-05\n",
            "Epoch 70/100\n",
            "7/7 [==============================] - 0s 34ms/step - loss: 1.9467e-04 - val_loss: 1.9984e-04\n",
            "Epoch 71/100\n",
            "7/7 [==============================] - 0s 48ms/step - loss: 1.6762e-04 - val_loss: 2.3402e-04\n",
            "Epoch 72/100\n",
            "7/7 [==============================] - 0s 51ms/step - loss: 2.4092e-04 - val_loss: 2.1665e-04\n",
            "Epoch 73/100\n",
            "7/7 [==============================] - 0s 52ms/step - loss: 3.6786e-04 - val_loss: 9.4807e-05\n",
            "Epoch 74/100\n",
            "7/7 [==============================] - 0s 48ms/step - loss: 6.7413e-04 - val_loss: 8.7736e-05\n",
            "Epoch 75/100\n",
            "7/7 [==============================] - 0s 49ms/step - loss: 4.0794e-04 - val_loss: 3.7563e-04\n",
            "Epoch 76/100\n",
            "7/7 [==============================] - 0s 49ms/step - loss: 2.3420e-04 - val_loss: 1.1009e-04\n",
            "Epoch 77/100\n",
            "7/7 [==============================] - 0s 50ms/step - loss: 1.5269e-04 - val_loss: 1.8271e-04\n",
            "Epoch 78/100\n",
            "7/7 [==============================] - 0s 53ms/step - loss: 1.6072e-04 - val_loss: 1.4559e-04\n",
            "Epoch 79/100\n",
            "7/7 [==============================] - 0s 36ms/step - loss: 1.4554e-04 - val_loss: 1.5142e-04\n",
            "Epoch 80/100\n",
            "7/7 [==============================] - 0s 36ms/step - loss: 1.2635e-04 - val_loss: 4.0441e-05\n",
            "Epoch 81/100\n",
            "7/7 [==============================] - 0s 37ms/step - loss: 1.8220e-04 - val_loss: 2.9758e-04\n",
            "Epoch 82/100\n",
            "7/7 [==============================] - 0s 34ms/step - loss: 4.4290e-04 - val_loss: 5.5747e-04\n",
            "Epoch 83/100\n",
            "7/7 [==============================] - 0s 34ms/step - loss: 2.5855e-04 - val_loss: 1.4569e-04\n",
            "Epoch 84/100\n",
            "7/7 [==============================] - 0s 36ms/step - loss: 1.8207e-04 - val_loss: 3.4180e-04\n",
            "Epoch 85/100\n",
            "7/7 [==============================] - 0s 36ms/step - loss: 2.4844e-04 - val_loss: 5.1574e-05\n",
            "Epoch 86/100\n",
            "7/7 [==============================] - 0s 35ms/step - loss: 1.8279e-04 - val_loss: 1.2678e-04\n",
            "Epoch 87/100\n",
            "7/7 [==============================] - 0s 31ms/step - loss: 1.5923e-04 - val_loss: 1.9393e-04\n",
            "Epoch 88/100\n",
            "7/7 [==============================] - 0s 32ms/step - loss: 1.8359e-04 - val_loss: 2.0964e-04\n",
            "Epoch 89/100\n",
            "7/7 [==============================] - 0s 37ms/step - loss: 1.7143e-04 - val_loss: 1.2781e-04\n",
            "Epoch 90/100\n",
            "7/7 [==============================] - 0s 36ms/step - loss: 1.0475e-04 - val_loss: 8.6334e-05\n",
            "Epoch 91/100\n",
            "7/7 [==============================] - 0s 31ms/step - loss: 1.0447e-04 - val_loss: 3.8698e-05\n",
            "Epoch 92/100\n",
            "7/7 [==============================] - 0s 37ms/step - loss: 8.7371e-05 - val_loss: 7.6234e-05\n",
            "Epoch 93/100\n",
            "7/7 [==============================] - 0s 32ms/step - loss: 7.3438e-05 - val_loss: 1.4390e-04\n",
            "Epoch 94/100\n",
            "7/7 [==============================] - 0s 36ms/step - loss: 1.1599e-04 - val_loss: 3.2241e-05\n",
            "Epoch 95/100\n",
            "7/7 [==============================] - 0s 34ms/step - loss: 7.6170e-05 - val_loss: 1.6398e-04\n",
            "Epoch 96/100\n",
            "7/7 [==============================] - 0s 34ms/step - loss: 1.3331e-04 - val_loss: 1.0702e-04\n",
            "Epoch 97/100\n",
            "7/7 [==============================] - 0s 36ms/step - loss: 1.3497e-04 - val_loss: 1.2151e-04\n",
            "Epoch 98/100\n",
            "7/7 [==============================] - 0s 35ms/step - loss: 1.7573e-04 - val_loss: 5.0125e-04\n",
            "Epoch 99/100\n",
            "7/7 [==============================] - 0s 35ms/step - loss: 2.2737e-04 - val_loss: 1.4772e-04\n",
            "Epoch 100/100\n",
            "7/7 [==============================] - 0s 34ms/step - loss: 1.3551e-04 - val_loss: 2.0794e-04\n"
          ]
        },
        {
          "output_type": "execute_result",
          "data": {
            "text/plain": [
              "<keras.callbacks.History at 0x79b355e70430>"
            ]
          },
          "metadata": {},
          "execution_count": 68
        }
      ]
    },
    {
      "cell_type": "code",
      "source": [
        "y_pred=model.predict(X_test)"
      ],
      "metadata": {
        "colab": {
          "base_uri": "https://localhost:8080/"
        },
        "id": "tw-9Q4YkIGV4",
        "outputId": "4f2177da-057c-4959-b844-beab24bf56f4"
      },
      "execution_count": null,
      "outputs": [
        {
          "output_type": "stream",
          "name": "stdout",
          "text": [
            "2/2 [==============================] - 0s 12ms/step\n"
          ]
        }
      ]
    },
    {
      "cell_type": "code",
      "source": [
        "print(y_pred)\n",
        "print(\"\\n \\n\")\n",
        "print(y_test)"
      ],
      "metadata": {
        "colab": {
          "base_uri": "https://localhost:8080/"
        },
        "id": "WaR3yFdoa36P",
        "outputId": "d923c40c-4c30-4f16-ce67-47d9c33df7f5"
      },
      "execution_count": 99,
      "outputs": [
        {
          "output_type": "stream",
          "name": "stdout",
          "text": [
            "[[0.32123837]\n",
            " [0.3799058 ]\n",
            " [0.33081183]\n",
            " [0.32290488]\n",
            " [0.3102427 ]\n",
            " [0.67939323]\n",
            " [0.3863773 ]\n",
            " [0.32231212]\n",
            " [0.5564659 ]\n",
            " [0.95235664]\n",
            " [0.3139217 ]\n",
            " [0.31325465]\n",
            " [0.31671762]\n",
            " [0.32688797]\n",
            " [0.31806493]\n",
            " [0.5256712 ]\n",
            " [0.32493028]\n",
            " [0.5559355 ]\n",
            " [0.35665295]\n",
            " [0.37564316]\n",
            " [0.33606565]\n",
            " [0.35133213]\n",
            " [0.32940573]\n",
            " [0.76363695]\n",
            " [0.7187986 ]\n",
            " [0.3349508 ]\n",
            " [0.3122716 ]\n",
            " [0.38371384]\n",
            " [0.4042024 ]\n",
            " [0.33865604]\n",
            " [0.31814292]\n",
            " [0.70808524]\n",
            " [0.372131  ]\n",
            " [0.6807338 ]\n",
            " [0.526677  ]\n",
            " [0.7402187 ]\n",
            " [0.38943753]\n",
            " [0.35117087]]\n",
            "\n",
            " \n",
            "\n",
            "103    0.301852\n",
            "245    0.379630\n",
            "124    0.307407\n",
            "78     0.305556\n",
            "112    0.290741\n",
            "36     0.653704\n",
            "185    0.379630\n",
            "201    0.305556\n",
            "55     0.538889\n",
            "2      0.909259\n",
            "93     0.296296\n",
            "106    0.298148\n",
            "92     0.294444\n",
            "125    0.311111\n",
            "105    0.292593\n",
            "60     0.500000\n",
            "231    0.309259\n",
            "57     0.564815\n",
            "189    0.348148\n",
            "244    0.359259\n",
            "123    0.316667\n",
            "138    0.340741\n",
            "132    0.318519\n",
            "13     0.735185\n",
            "20     0.688889\n",
            "234    0.331481\n",
            "116    0.296296\n",
            "169    0.370370\n",
            "165    0.398148\n",
            "238    0.325926\n",
            "212    0.303704\n",
            "21     0.666667\n",
            "154    0.362963\n",
            "39     0.648148\n",
            "61     0.525926\n",
            "18     0.701852\n",
            "69     0.375926\n",
            "144    0.340741\n",
            "Name: OPEN , dtype: float64\n"
          ]
        }
      ]
    },
    {
      "cell_type": "code",
      "source": [
        "import pandas as pd\n",
        "import numpy as np\n",
        "\n",
        "data = {\n",
        "    'OPEN': [np.nan],\n",
        "    'HIGH': [0.0120612951],\n",
        "    'LOW': [0.0115669797],\n",
        "    'PREV. CLOSE': [0.0116658428],\n",
        "    'close': [0.0117647059],\n",
        "    'Year': [1],\n",
        "    'Month': [0.00444883836],\n",
        "    'Day': [0.00296589224]\n",
        "}\n",
        "\n",
        "df3 = pd.DataFrame(data)"
      ],
      "metadata": {
        "id": "-n8hN-KWZ2w9"
      },
      "execution_count": 87,
      "outputs": []
    },
    {
      "cell_type": "code",
      "source": [
        "X_test1=df3.iloc[:,1:]\n",
        "y_test1=df3.iloc[:,0]"
      ],
      "metadata": {
        "id": "LMeyNsceZ7yW"
      },
      "execution_count": 88,
      "outputs": []
    },
    {
      "cell_type": "code",
      "source": [
        "y_predict=model.predict(X_test1)"
      ],
      "metadata": {
        "colab": {
          "base_uri": "https://localhost:8080/"
        },
        "id": "OZ6BrrRqaGmR",
        "outputId": "fdc97168-f78c-4813-f7ca-1d1c47bfb918"
      },
      "execution_count": 89,
      "outputs": [
        {
          "output_type": "stream",
          "name": "stdout",
          "text": [
            "1/1 [==============================] - 0s 36ms/step\n"
          ]
        }
      ]
    },
    {
      "cell_type": "code",
      "source": [
        "y_predict"
      ],
      "metadata": {
        "colab": {
          "base_uri": "https://localhost:8080/"
        },
        "id": "AuiGMVu0aOb1",
        "outputId": "0f8bff5f-390b-4f4a-a74b-a956e60542e5"
      },
      "execution_count": 90,
      "outputs": [
        {
          "output_type": "execute_result",
          "data": {
            "text/plain": [
              "array([[0.93231773]], dtype=float32)"
            ]
          },
          "metadata": {},
          "execution_count": 90
        }
      ]
    },
    {
      "cell_type": "code",
      "source": [
        "0.93231773*27"
      ],
      "metadata": {
        "colab": {
          "base_uri": "https://localhost:8080/"
        },
        "id": "oPuVSWO2aQHr",
        "outputId": "3a083385-f071-4f48-ce0f-c913d666a035"
      },
      "execution_count": 91,
      "outputs": [
        {
          "output_type": "execute_result",
          "data": {
            "text/plain": [
              "25.17257871"
            ]
          },
          "metadata": {},
          "execution_count": 91
        }
      ]
    },
    {
      "cell_type": "code",
      "source": [
        "error =25.17-23.8\n",
        "print(error)"
      ],
      "metadata": {
        "colab": {
          "base_uri": "https://localhost:8080/"
        },
        "id": "tcXDVdePaZgd",
        "outputId": "45217d6a-ee14-43c8-a5f1-e8371af2e29a"
      },
      "execution_count": 93,
      "outputs": [
        {
          "output_type": "stream",
          "name": "stdout",
          "text": [
            "1.370000000000001\n"
          ]
        }
      ]
    },
    {
      "cell_type": "markdown",
      "source": [
        "-- here the error is high due to the unexpected change in the suzlon stocks will try with other algorithms and will see if it performs well in that case--"
      ],
      "metadata": {
        "id": "KXSsVsh5bYyx"
      }
    }
  ]
}